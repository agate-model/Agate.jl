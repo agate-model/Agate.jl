{
 "cells": [
  {
   "cell_type": "code",
   "execution_count": 1,
   "id": "272df512-f8c0-4b48-8ee9-b59912836f1a",
   "metadata": {},
   "outputs": [
    {
     "name": "stderr",
     "output_type": "stream",
     "text": [
      "\u001b[32m\u001b[1m  Activating\u001b[22m\u001b[39m project at `~/Documents/Projects/Agate.jl`\n"
     ]
    },
    {
     "name": "stdout",
     "output_type": "stream",
     "text": [
      "\u001b[36m\u001b[1mProject\u001b[22m\u001b[39m Agate v0.0.1\n",
      "\u001b[32m\u001b[1mStatus\u001b[22m\u001b[39m `~/Documents/Projects/Agate.jl/Project.toml`\n",
      "  \u001b[90m[a49af516] \u001b[39mOceanBioME v0.11.1\n",
      "  \u001b[90m[9e8cae18] \u001b[39mOceananigans v0.91.13\n"
     ]
    }
   ],
   "source": [
    "using Pkg\n",
    "\n",
    "Pkg.activate(\"Agate\")\n",
    "Pkg.status()"
   ]
  },
  {
   "cell_type": "code",
   "execution_count": 2,
   "id": "5243b5c1-6ae2-4db3-90c8-b6fc3132cb04",
   "metadata": {},
   "outputs": [],
   "source": [
    "using Agate"
   ]
  },
  {
   "cell_type": "markdown",
   "id": "18744994-dc0f-483a-9145-1ec4d4155e2f",
   "metadata": {},
   "source": [
    "# The simplest case\n",
    "\n",
    "The user can specify their own tracer functions, which need to be specified as a dictionary. The functions have to be written as Julia expression objects (they have to be defined inside `:(...)`. One can also optionally specify auxiliary fields as a vector (here one can list other parameters that the tracers depend on)."
   ]
  },
  {
   "cell_type": "code",
   "execution_count": 3,
   "id": "a0d4a42e-683a-440f-9f40-ae066f0a9054",
   "metadata": {},
   "outputs": [
    {
     "data": {
      "text/plain": [
       "1-element Vector{Symbol}:\n",
       " :PAR"
      ]
     },
     "execution_count": 3,
     "metadata": {},
     "output_type": "execute_result"
    }
   ],
   "source": [
    "tracers = Dict(\n",
    "    \"N\" => :(N + Z + D + P),\n",
    "    \"P\" => :(0.5 * PAR),\n",
    "    \"D\" => :(0.1 * D),\n",
    "    \"Z\" => :(P-1)\n",
    ")\n",
    "\n",
    "aux_field_vars = [:PAR,]"
   ]
  },
  {
   "cell_type": "markdown",
   "id": "997a50a9",
   "metadata": {},
   "source": [
    "Then one creates an Oceananigans BGC model by calling `construct_bgc_model`:"
   ]
  },
  {
   "cell_type": "code",
   "execution_count": 4,
   "id": "d90d6515-4710-4a06-9352-70a8f6b883b3",
   "metadata": {},
   "outputs": [
    {
     "data": {
      "text/plain": [
       "Agate.Models.Dynamic.DynamicBGC()"
      ]
     },
     "execution_count": 4,
     "metadata": {},
     "output_type": "execute_result"
    }
   ],
   "source": [
    "model = construct_bgc_model(tracers, auxiliary_fields=aux_field_vars)"
   ]
  },
  {
   "cell_type": "markdown",
   "id": "71851bf6",
   "metadata": {},
   "source": [
    "Each tracer function can now be evaluated (note that there are 4 additional input parameters)"
   ]
  },
  {
   "cell_type": "code",
   "execution_count": 5,
   "id": "fdb18a61-16fe-4961-92af-0ae6d17fc204",
   "metadata": {},
   "outputs": [
    {
     "data": {
      "text/plain": [
       "4"
      ]
     },
     "execution_count": 5,
     "metadata": {},
     "output_type": "execute_result"
    }
   ],
   "source": [
    "# inputs are: x,y,z,t,Z,P,N,D,PAR\n",
    "model(Val(:N), 0, 0, 0, 0, 1, 1, 1, 1, 1)"
   ]
  },
  {
   "cell_type": "markdown",
   "id": "da3d0288-715c-46d5-ae6e-86e74039be5a",
   "metadata": {},
   "source": [
    "# Using Agate functions\n",
    "\n",
    "We can also make use of existing functions in the Agate library when specifying the tracer functions. To do that, the users also have to pass a dictionary of values for the constant terms in each function."
   ]
  },
  {
   "cell_type": "code",
   "execution_count": 6,
   "id": "56c10b75",
   "metadata": {},
   "outputs": [
    {
     "data": {
      "text/plain": [
       "Dict{Symbol, Float64} with 11 entries:\n",
       "  :kₙ   => 2.3868\n",
       "  :α    => 0.1953\n",
       "  :lᵖⁿ  => 0.066\n",
       "  :rᵈⁿ  => 0.1213\n",
       "  :lᶻᵈ  => 0.3395\n",
       "  :μ₀   => 0.6989\n",
       "  :lᶻⁿ  => 0.0102\n",
       "  :lᵖᵈ  => 0.0101\n",
       "  :β    => 0.9116\n",
       "  :kₚ   => 0.5573\n",
       "  :gₘₐₓ => 2.1522"
      ]
     },
     "execution_count": 6,
     "metadata": {},
     "output_type": "execute_result"
    }
   ],
   "source": [
    "priors = Dict(\n",
    "    :μ₀ => 0.6989,\n",
    "    :kₙ => 2.3868,\n",
    "    :lᵖⁿ => 0.066,\n",
    "    :lᶻⁿ => 0.0102,\n",
    "    :lᵖᵈ => 0.0101,\n",
    "    :gₘₐₓ => 2.1522,\n",
    "    :kₚ => 0.5573,\n",
    "    :β => 0.9116,\n",
    "    :lᶻᵈ => 0.3395,\n",
    "    :rᵈⁿ => 0.1213,\n",
    "    :α => 0.1953,\n",
    ")"
   ]
  },
  {
   "cell_type": "code",
   "execution_count": 7,
   "id": "5aff0d77-4ab7-4899-92d2-0152fd1c8317",
   "metadata": {},
   "outputs": [
    {
     "data": {
      "text/plain": [
       "1-element Vector{Symbol}:\n",
       " :PAR"
      ]
     },
     "execution_count": 7,
     "metadata": {},
     "output_type": "execute_result"
    }
   ],
   "source": [
    "tracers = Dict(\n",
    "    \"N\" => :(phytoplankton_metabolic_loss(P, lᵖⁿ) \n",
    "    + zooplankton_metabolic_loss(Z, lᶻⁿ) \n",
    "    + remineralization(D, rᵈⁿ) \n",
    "    - phytoplankton_growth(N, PAR, P, μ₀, kₙ, α)),\n",
    "\n",
    "    \"D\" => :(phytoplankton_mortality_loss(P, lᵖᵈ)\n",
    "    + zooplankton_assimilation_loss(P, Z, β, gₘₐₓ, kₚ) \n",
    "    + zooplankton_mortality_loss(Z, lᶻᵈ) \n",
    "    - remineralization(D, rᵈⁿ) ),\n",
    "    \n",
    "    \"P\" => :(phytoplankton_growth(N, PAR, P, μ₀, kₙ, α) \n",
    "    - phytoplankton_grazing_loss(P, Z, gₘₐₓ, kₚ) \n",
    "    - phytoplankton_metabolic_loss(P, lᵖⁿ) \n",
    "    - phytoplankton_mortality_loss(P, lᵖᵈ)),\n",
    "    \n",
    "    \"Z\" => :(zooplankton_grazing_gain(P, Z, β, gₘₐₓ, kₚ) \n",
    "    - zooplankton_metabolic_loss(Z, lᶻⁿ)  \n",
    "    - zooplankton_mortality_loss(Z, lᶻᵈ))\n",
    "    )\n",
    "\n",
    "aux_field_vars = [:PAR,]"
   ]
  },
  {
   "cell_type": "code",
   "execution_count": 8,
   "id": "fb2310aa-6145-4383-9f10-ec8b5472aca9",
   "metadata": {},
   "outputs": [
    {
     "data": {
      "text/plain": [
       "Agate.Models.Dynamic.DynamicBGC()"
      ]
     },
     "execution_count": 8,
     "metadata": {},
     "output_type": "execute_result"
    }
   ],
   "source": [
    "model2 = construct_bgc_model(tracers, auxiliary_fields=aux_field_vars, priors=priors)"
   ]
  },
  {
   "cell_type": "code",
   "execution_count": 9,
   "id": "cdab9c59-737a-4b0d-999b-e96823b610ba",
   "metadata": {},
   "outputs": [
    {
     "data": {
      "text/plain": [
       "(0.5058625488175891, 3.3798033704115062)"
      ]
     },
     "execution_count": 9,
     "metadata": {},
     "output_type": "execute_result"
    }
   ],
   "source": [
    "# the first 4 values should not matter - those are the x,y,z,t coordinates \n",
    "# This is followed by the tracers in this order: Z, P, N, D, PAR\n",
    "model2(Val(:N), 0, 0, 0, 0, 1, 1, 1, 4, 1), model2(Val(:D), 0, 0, 0, 0, 3, 1, 1, 1, 1)"
   ]
  },
  {
   "cell_type": "markdown",
   "id": "5a5f3bed-2832-47d0-94c2-4bf5ad8ff2c4",
   "metadata": {},
   "source": [
    "### TEST\n",
    "\n",
    "For comparison, we define a function for tracer N same as above and with all the same parameter values and show that we get the same result."
   ]
  },
  {
   "cell_type": "code",
   "execution_count": 10,
   "id": "d4e8afb3",
   "metadata": {},
   "outputs": [
    {
     "data": {
      "text/plain": [
       "\"/Users/rjersakova/Documents/Projects/Agate.jl/notebooks\""
      ]
     },
     "execution_count": 10,
     "metadata": {},
     "output_type": "execute_result"
    }
   ],
   "source": [
    "pwd()"
   ]
  },
  {
   "cell_type": "code",
   "execution_count": 11,
   "id": "8cabea8e",
   "metadata": {},
   "outputs": [
    {
     "data": {
      "text/plain": [
       "zooplankton_assimilation_loss (generic function with 1 method)"
      ]
     },
     "execution_count": 11,
     "metadata": {},
     "output_type": "execute_result"
    }
   ],
   "source": [
    "# all the functions are defined here\n",
    "include(\"../src/Models/Library.jl\")"
   ]
  },
  {
   "cell_type": "code",
   "execution_count": 12,
   "id": "0d4b536c-8b21-46be-a90c-1561a1e8e5d6",
   "metadata": {},
   "outputs": [
    {
     "data": {
      "text/plain": [
       "D (generic function with 1 method)"
      ]
     },
     "execution_count": 12,
     "metadata": {},
     "output_type": "execute_result"
    }
   ],
   "source": [
    "# just copy pasting expression from the top.... matching the arg order\n",
    "μ₀=0.6989\n",
    "kₙ=2.3868\n",
    "lᵖⁿ=0.066\n",
    "lᶻⁿ=0.0102\n",
    "lᵖᵈ=0.0101\n",
    "gₘₐₓ=2.1522\n",
    "kₚ=0.5573\n",
    "β=0.9116\n",
    "lᶻᵈ=0.3395\n",
    "rᵈⁿ=0.1213\n",
    "α=0.1953\n",
    "\n",
    "function N(Z, P, N, D, PAR)\n",
    "    return phytoplankton_metabolic_loss(P, lᵖⁿ)  + zooplankton_metabolic_loss(Z, lᶻⁿ) + remineralization(D, rᵈⁿ)  - phytoplankton_growth(N, PAR, P, μ₀, kₙ, α)\n",
    "end\n",
    "\n",
    "function D(Z, P, N, D, PAR)\n",
    "    phytoplankton_mortality_loss(P, lᵖᵈ) + zooplankton_assimilation_loss(P, Z, β, gₘₐₓ, kₚ)  + zooplankton_mortality_loss(Z, lᶻᵈ)   - remineralization(D, rᵈⁿ)\n",
    "end"
   ]
  },
  {
   "cell_type": "code",
   "execution_count": 13,
   "id": "ab4331ea-1118-4d63-8f7a-4dd1184b4e6d",
   "metadata": {},
   "outputs": [
    {
     "data": {
      "text/plain": [
       "(0.5058625488175891, 3.3798033704115062)"
      ]
     },
     "execution_count": 13,
     "metadata": {},
     "output_type": "execute_result"
    }
   ],
   "source": [
    "N(1, 1, 1, 4, 1), D(3, 1, 1, 1, 1)"
   ]
  },
  {
   "cell_type": "markdown",
   "id": "c3c5316e",
   "metadata": {},
   "source": [
    "## Passing user defined methods"
   ]
  },
  {
   "cell_type": "code",
   "execution_count": null,
   "id": "8ce7213c",
   "metadata": {},
   "outputs": [],
   "source": []
  },
  {
   "cell_type": "code",
   "execution_count": null,
   "id": "d2009546",
   "metadata": {},
   "outputs": [],
   "source": []
  },
  {
   "cell_type": "markdown",
   "id": "54e311c9-06f0-4f18-8a7d-7d4be25a9ee5",
   "metadata": {},
   "source": [
    "## Latex\n",
    "\n",
    "Example of turning functions into latex"
   ]
  },
  {
   "cell_type": "code",
   "execution_count": 14,
   "id": "6e2bbae0-c0b4-4255-9d66-79d7aae14206",
   "metadata": {},
   "outputs": [
    {
     "data": {
      "text/latex": [
       "$x + y$"
      ],
      "text/plain": [
       "L\"$x + y$\""
      ]
     },
     "execution_count": 14,
     "metadata": {},
     "output_type": "execute_result"
    }
   ],
   "source": [
    "# return latex \n",
    "using Latexify\n",
    "latexify(:(x + y)) # |> print"
   ]
  }
 ],
 "metadata": {
  "kernelspec": {
   "display_name": "Julia 1.10.5",
   "language": "julia",
   "name": "julia-1.10"
  },
  "language_info": {
   "file_extension": ".jl",
   "mimetype": "application/julia",
   "name": "julia",
   "version": "1.10.5"
  }
 },
 "nbformat": 4,
 "nbformat_minor": 5
}
