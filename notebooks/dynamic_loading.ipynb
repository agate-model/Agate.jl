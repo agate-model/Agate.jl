{
 "cells": [
  {
   "cell_type": "code",
   "execution_count": 1,
   "id": "272df512-f8c0-4b48-8ee9-b59912836f1a",
   "metadata": {},
   "outputs": [
    {
     "name": "stderr",
     "output_type": "stream",
     "text": [
      "\u001b[32m\u001b[1m  Activating\u001b[22m\u001b[39m project at `~/Documents/Projects/Agate.jl`\n"
     ]
    },
    {
     "name": "stdout",
     "output_type": "stream",
     "text": [
      "\u001b[36m\u001b[1mProject\u001b[22m\u001b[39m Agate v0.0.1\n",
      "\u001b[32m\u001b[1mStatus\u001b[22m\u001b[39m `~/Documents/Projects/Agate.jl/Project.toml`\n",
      "  \u001b[90m[a49af516] \u001b[39mOceanBioME v0.11.1\n",
      "  \u001b[90m[9e8cae18] \u001b[39mOceananigans v0.91.13\n"
     ]
    }
   ],
   "source": [
    "using Pkg\n",
    "\n",
    "Pkg.activate(\"Agate\")\n",
    "Pkg.status()"
   ]
  },
  {
   "cell_type": "code",
   "execution_count": 2,
   "id": "5243b5c1-6ae2-4db3-90c8-b6fc3132cb04",
   "metadata": {},
   "outputs": [],
   "source": [
    "using Agate"
   ]
  },
  {
   "cell_type": "markdown",
   "id": "18744994-dc0f-483a-9145-1ec4d4155e2f",
   "metadata": {},
   "source": [
    "# The simplest case\n",
    "\n",
    "You have your own set of functions which you write out fully where the only variables are other tracers (or auxiliary fields) and everything else is a constant."
   ]
  },
  {
   "cell_type": "markdown",
   "id": "4045ec22-abdb-4011-a221-ad3a70de9417",
   "metadata": {},
   "source": [
    "The user needs to provide a dictionary of tracer functions as Julia expression objects (they have to be defined inside `:(...)`. One can also optionally specify auxiliary fields as a vector."
   ]
  },
  {
   "cell_type": "code",
   "execution_count": 3,
   "id": "a0d4a42e-683a-440f-9f40-ae066f0a9054",
   "metadata": {},
   "outputs": [
    {
     "data": {
      "text/plain": [
       "1-element Vector{Symbol}:\n",
       " :PAR"
      ]
     },
     "execution_count": 3,
     "metadata": {},
     "output_type": "execute_result"
    }
   ],
   "source": [
    "tracers = Dict(\n",
    "    \"N\" => :(N + Z + D + P),\n",
    "    \"P\" => :(0.5 * PAR),\n",
    "    \"D\" => :(0.1 * D),\n",
    "    \"Z\" => :(P-1)\n",
    ")\n",
    "\n",
    "aux_field_vars = [:PAR,]"
   ]
  },
  {
   "cell_type": "code",
   "execution_count": 4,
   "id": "d90d6515-4710-4a06-9352-70a8f6b883b3",
   "metadata": {},
   "outputs": [
    {
     "data": {
      "text/plain": [
       "Agate.Models.Dynamic.DynamicBGC()"
      ]
     },
     "execution_count": 4,
     "metadata": {},
     "output_type": "execute_result"
    }
   ],
   "source": [
    "model = construct_bgc_model(tracers, aux_field_vars)"
   ]
  },
  {
   "cell_type": "code",
   "execution_count": 5,
   "id": "fdb18a61-16fe-4961-92af-0ae6d17fc204",
   "metadata": {},
   "outputs": [
    {
     "data": {
      "text/plain": [
       "4"
      ]
     },
     "execution_count": 5,
     "metadata": {},
     "output_type": "execute_result"
    }
   ],
   "source": [
    "model(Val(:N), 0, 0, 0, 0, 1, 1, 1, 1, 1)"
   ]
  },
  {
   "cell_type": "markdown",
   "id": "da3d0288-715c-46d5-ae6e-86e74039be5a",
   "metadata": {},
   "source": [
    "# Using Agate functions\n",
    "\n",
    "In a better world, we make use of existing functions in the Agate library. \n",
    "\n",
    "In this case, the Dynamic model submodule needs to have visibility of all functions, otherwise it won't work. This seems fine.\n",
    "\n",
    "We also need a way for the user to specify the constant terms and currently they have to do this manually (even when these repeat) - this should be fixed."
   ]
  },
  {
   "cell_type": "code",
   "execution_count": 6,
   "id": "5aff0d77-4ab7-4899-92d2-0152fd1c8317",
   "metadata": {},
   "outputs": [
    {
     "data": {
      "text/plain": [
       "1-element Vector{Symbol}:\n",
       " :PAR"
      ]
     },
     "execution_count": 6,
     "metadata": {},
     "output_type": "execute_result"
    }
   ],
   "source": [
    "tracers = Dict(\n",
    "    \"N\" => :(phytoplankton_metabolic_loss(P, lᵖⁿ=0.066) \n",
    "    + zooplankton_metabolic_loss(Z, lᶻⁿ=0.0102) \n",
    "    + remineralization(D, rᵈⁿ=0.1213) \n",
    "    - phytoplankton_growth(N, PAR, P, μ₀=0.698, kₙ=2.3868, α=0.1953)),\n",
    "\n",
    "    \"D\" => :(phytoplankton_mortality_loss(P, lᵖᵈ=0.0101)\n",
    "    + zooplankton_assimilation_loss(P, Z, β=0.9116, gₘₐₓ=2.1522, kₚ=0.5573) \n",
    "    + zooplankton_mortality_loss(Z, lᶻᵈ=0.0102) \n",
    "    - remineralization(D, rᵈⁿ=0.1213) ),\n",
    "    \n",
    "    \"P\" => :(phytoplankton_growth(N, PAR, P, μ₀=0.698, kₙ=2.3868, α=0.1953) \n",
    "    - phytoplankton_grazing_loss(P, Z, gₘₐₓ=2.1522, kₚ=0.5573) \n",
    "    - phytoplankton_metabolic_loss(P, lᵖⁿ=0.066) \n",
    "    - phytoplankton_mortality_loss(P, lᵖᵈ=0.0101)),\n",
    "    \n",
    "    \"Z\" => :(zooplankton_grazing_gain(P, Z, β=0.9116, gₘₐₓ=2.1522, kₚ=0.5573) \n",
    "    - zooplankton_metabolic_loss(Z, lᶻⁿ=0.0102)  \n",
    "    - zooplankton_mortality_loss(Z, lᶻᵈ=0.3395) )\n",
    "    )\n",
    "\n",
    "aux_field_vars = [:PAR,]"
   ]
  },
  {
   "cell_type": "markdown",
   "id": "873d9af8-7cfd-4753-a66d-663b1bc9aae6",
   "metadata": {},
   "source": [
    "Then one creates an Oceananigans BGC model by calling `construct_bgc_model`:"
   ]
  },
  {
   "cell_type": "code",
   "execution_count": 7,
   "id": "fb2310aa-6145-4383-9f10-ec8b5472aca9",
   "metadata": {},
   "outputs": [
    {
     "data": {
      "text/plain": [
       "Agate.Models.Dynamic.DynamicBGC()"
      ]
     },
     "execution_count": 7,
     "metadata": {},
     "output_type": "execute_result"
    }
   ],
   "source": [
    "model2 = construct_bgc_model(tracers, aux_field_vars)"
   ]
  },
  {
   "cell_type": "markdown",
   "id": "c8fc3295-df2b-4819-9a40-c7079ed94ee0",
   "metadata": {},
   "source": [
    "The tracer methods can then be called as expected, for example"
   ]
  },
  {
   "cell_type": "code",
   "execution_count": 23,
   "id": "cdab9c59-737a-4b0d-999b-e96823b610ba",
   "metadata": {},
   "outputs": [
    {
     "data": {
      "text/plain": [
       "(0.14196773816764147, 0.044167790137168664)"
      ]
     },
     "execution_count": 23,
     "metadata": {},
     "output_type": "execute_result"
    }
   ],
   "source": [
    "# the first 4 values should not matter - those are the x,y,z,t coordinates followed by the tracers\n",
    "model2(Val(:N), 0, 0, 0, 0, 1, 1, 1, 1, 1), model2(Val(:D), 0, 0, 0, 0, 1, 1, 1, 1, 1)"
   ]
  },
  {
   "cell_type": "markdown",
   "id": "5a5f3bed-2832-47d0-94c2-4bf5ad8ff2c4",
   "metadata": {},
   "source": [
    "### TEST\n",
    "\n",
    "For comparison, we define a function for tracer N same as above and with all the same parameter values... we should get the same result...."
   ]
  },
  {
   "cell_type": "code",
   "execution_count": 9,
   "id": "d4e8afb3",
   "metadata": {},
   "outputs": [
    {
     "data": {
      "text/plain": [
       "\"/Users/rjersakova/Documents/Projects/Agate.jl/notebooks\""
      ]
     },
     "execution_count": 9,
     "metadata": {},
     "output_type": "execute_result"
    }
   ],
   "source": [
    "pwd()"
   ]
  },
  {
   "cell_type": "code",
   "execution_count": 10,
   "id": "8cabea8e",
   "metadata": {},
   "outputs": [
    {
     "data": {
      "text/plain": [
       "zooplankton_assimilation_loss (generic function with 1 method)"
      ]
     },
     "execution_count": 10,
     "metadata": {},
     "output_type": "execute_result"
    }
   ],
   "source": [
    "# all the functions are defined here\n",
    "include(\"../src/Models/Library.jl\")"
   ]
  },
  {
   "cell_type": "code",
   "execution_count": 20,
   "id": "0d4b536c-8b21-46be-a90c-1561a1e8e5d6",
   "metadata": {},
   "outputs": [
    {
     "data": {
      "text/plain": [
       "D (generic function with 1 method)"
      ]
     },
     "execution_count": 20,
     "metadata": {},
     "output_type": "execute_result"
    }
   ],
   "source": [
    "# just copy pasting expression from the top....\n",
    "function N(D, N, P, Z, PAR)\n",
    "    return phytoplankton_metabolic_loss(P, lᵖⁿ=0.066)  + zooplankton_metabolic_loss(Z, lᶻⁿ=0.0102) + remineralization(D, rᵈⁿ=0.1213)  - phytoplankton_growth(N, PAR, P, μ₀=0.698, kₙ=2.3868, α=0.1953)\n",
    "end\n",
    "\n",
    "function D(D, N, P, Z, PAR)\n",
    "    phytoplankton_mortality_loss(P, lᵖᵈ=0.0101) + zooplankton_assimilation_loss(P, Z, β=0.9116, gₘₐₓ=2.1522, kₚ=0.5573)  + zooplankton_mortality_loss(Z, lᶻᵈ=0.0102)   - remineralization(D, rᵈⁿ=0.1213)\n",
    "end"
   ]
  },
  {
   "cell_type": "code",
   "execution_count": 21,
   "id": "ab4331ea-1118-4d63-8f7a-4dd1184b4e6d",
   "metadata": {},
   "outputs": [
    {
     "data": {
      "text/plain": [
       "(0.066, -0.1213)"
      ]
     },
     "execution_count": 21,
     "metadata": {},
     "output_type": "execute_result"
    }
   ],
   "source": [
    "N(1, 1, 1, 1, 1), D(1, 1, 1, 1, 1)"
   ]
  },
  {
   "cell_type": "markdown",
   "id": "54e311c9-06f0-4f18-8a7d-7d4be25a9ee5",
   "metadata": {},
   "source": [
    "## Latex\n",
    "\n",
    "Example of turning functions into latex"
   ]
  },
  {
   "cell_type": "code",
   "execution_count": 13,
   "id": "6e2bbae0-c0b4-4255-9d66-79d7aae14206",
   "metadata": {},
   "outputs": [
    {
     "data": {
      "text/latex": [
       "$x + y$"
      ],
      "text/plain": [
       "L\"$x + y$\""
      ]
     },
     "execution_count": 13,
     "metadata": {},
     "output_type": "execute_result"
    }
   ],
   "source": [
    "# return latex \n",
    "using Latexify\n",
    "latexify(:(x + y)) # |> print"
   ]
  }
 ],
 "metadata": {
  "kernelspec": {
   "display_name": "Julia 1.10.5",
   "language": "julia",
   "name": "julia-1.10"
  },
  "language_info": {
   "file_extension": ".jl",
   "mimetype": "application/julia",
   "name": "julia",
   "version": "1.10.5"
  }
 },
 "nbformat": 4,
 "nbformat_minor": 5
}
